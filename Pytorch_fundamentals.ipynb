{
  "cells": [
    {
      "cell_type": "markdown",
      "metadata": {
        "id": "view-in-github",
        "colab_type": "text"
      },
      "source": [
        "<a href=\"https://colab.research.google.com/github/DK0806/2311MC20/blob/main/Pytorch_fundamentals.ipynb\" target=\"_parent\"><img src=\"https://colab.research.google.com/assets/colab-badge.svg\" alt=\"Open In Colab\"/></a>"
      ]
    },
    {
      "cell_type": "code",
      "execution_count": null,
      "metadata": {
        "id": "I7fNwWGJuf-r"
      },
      "outputs": [],
      "source": []
    },
    {
      "cell_type": "markdown",
      "metadata": {
        "id": "h2zo00rYvLEs"
      },
      "source": [
        "change notebook settings to GPU"
      ]
    },
    {
      "cell_type": "code",
      "execution_count": null,
      "metadata": {
        "colab": {
          "base_uri": "https://localhost:8080/"
        },
        "id": "MscHb98_vPyf",
        "outputId": "6f919afd-af5f-4f0a-95af-e0d99c74996c"
      },
      "outputs": [
        {
          "name": "stdout",
          "output_type": "stream",
          "text": [
            "/bin/bash: line 1: nvidia-smi: command not found\n"
          ]
        }
      ],
      "source": [
        "!nvidia-smi"
      ]
    },
    {
      "cell_type": "markdown",
      "metadata": {
        "id": "gup3daS2w4YJ"
      },
      "source": [
        "### 00 . Pytorch fundamentals\n",
        "\n",
        "Resource notebook : https://www.learnpytorch.io/00_pytorch_fundamentals/\n",
        "\n",
        "if you have question : https://github.com/mrdbourke/pytorch-deep-learning/discussions\n"
      ]
    },
    {
      "cell_type": "code",
      "execution_count": null,
      "metadata": {
        "colab": {
          "base_uri": "https://localhost:8080/"
        },
        "id": "rUnXCiYZwhaF",
        "outputId": "c43400db-8303-42e3-ff2c-4d28fb12116d"
      },
      "outputs": [
        {
          "name": "stdout",
          "output_type": "stream",
          "text": [
            "2.3.1+cu121\n"
          ]
        }
      ],
      "source": [
        "import torch\n",
        "import pandas as pd\n",
        "import numpy as np\n",
        "import matplotlib.pyplot as plt\n",
        "print(torch.__version__)\n"
      ]
    },
    {
      "cell_type": "markdown",
      "metadata": {
        "id": "LPTizZFxyAHS"
      },
      "source": [
        "### Introduction to tensors\n",
        "\n",
        "Creating tensors\n",
        "\n",
        "Pytorch tensors are created using torch.tensor() = https://pytorch.org/docs/stable/tensors.html\n"
      ]
    },
    {
      "cell_type": "code",
      "execution_count": null,
      "metadata": {
        "colab": {
          "base_uri": "https://localhost:8080/"
        },
        "id": "bIqrIHayyCtr",
        "outputId": "4e346150-3c0c-4689-de57-adf12e4f2ddf"
      },
      "outputs": [
        {
          "data": {
            "text/plain": [
              "tensor(7)"
            ]
          },
          "execution_count": 5,
          "metadata": {},
          "output_type": "execute_result"
        }
      ],
      "source": [
        "# scalar\n",
        "scalar = torch.tensor(7)\n",
        "scalar"
      ]
    },
    {
      "cell_type": "code",
      "execution_count": null,
      "metadata": {
        "colab": {
          "base_uri": "https://localhost:8080/"
        },
        "id": "bj9ygaILyuW7",
        "outputId": "5c5b2a3a-5ae1-4166-9a18-9a51af22561a"
      },
      "outputs": [
        {
          "data": {
            "text/plain": [
              "0"
            ]
          },
          "execution_count": 5,
          "metadata": {},
          "output_type": "execute_result"
        }
      ],
      "source": [
        "scalar.ndim"
      ]
    },
    {
      "cell_type": "code",
      "execution_count": null,
      "metadata": {
        "colab": {
          "base_uri": "https://localhost:8080/"
        },
        "id": "qCNqDHrNz0ZO",
        "outputId": "91a8fa61-1ed0-4da9-f64e-f17ec121c394"
      },
      "outputs": [
        {
          "data": {
            "text/plain": [
              "torch.Size([])"
            ]
          },
          "execution_count": 6,
          "metadata": {},
          "output_type": "execute_result"
        }
      ],
      "source": [
        " scalar.item()\n",
        " scalar.shape"
      ]
    },
    {
      "cell_type": "code",
      "execution_count": null,
      "metadata": {
        "colab": {
          "base_uri": "https://localhost:8080/"
        },
        "id": "IZmz5pJc0JXy",
        "outputId": "e1f91146-b459-4f82-aec5-64afd9573cf0"
      },
      "outputs": [
        {
          "data": {
            "text/plain": [
              "tensor([7, 7])"
            ]
          },
          "execution_count": 7,
          "metadata": {},
          "output_type": "execute_result"
        }
      ],
      "source": [
        "### Vector ###\n",
        "\n",
        "vector = torch.tensor([7,7])\n",
        "vector"
      ]
    },
    {
      "cell_type": "code",
      "execution_count": null,
      "metadata": {
        "colab": {
          "base_uri": "https://localhost:8080/"
        },
        "id": "gj3ZdR_j0SQG",
        "outputId": "f39998c6-55f8-40bf-a079-f50081444395"
      },
      "outputs": [
        {
          "data": {
            "text/plain": [
              "1"
            ]
          },
          "execution_count": 8,
          "metadata": {},
          "output_type": "execute_result"
        }
      ],
      "source": [
        "vector.ndim\n",
        "\n",
        "## dimension is no of pair of square brackets"
      ]
    },
    {
      "cell_type": "code",
      "execution_count": null,
      "metadata": {
        "colab": {
          "base_uri": "https://localhost:8080/"
        },
        "id": "ZHID_bkW0luZ",
        "outputId": "b7de471d-48b9-4d48-f9d1-3f1f4ddd4ed6"
      },
      "outputs": [
        {
          "data": {
            "text/plain": [
              "torch.Size([2])"
            ]
          },
          "execution_count": 9,
          "metadata": {},
          "output_type": "execute_result"
        }
      ],
      "source": [
        "vector.shape"
      ]
    },
    {
      "cell_type": "code",
      "execution_count": null,
      "metadata": {
        "colab": {
          "base_uri": "https://localhost:8080/"
        },
        "id": "zyDGYqxZ0r-j",
        "outputId": "9653fbb9-a547-44b6-e799-9ddfe85cad59"
      },
      "outputs": [
        {
          "data": {
            "text/plain": [
              "tensor([[ 7,  8],\n",
              "        [ 9, 10]])"
            ]
          },
          "execution_count": 10,
          "metadata": {},
          "output_type": "execute_result"
        }
      ],
      "source": [
        "### MATRIX\n",
        "\n",
        "MATRIX = torch.tensor([[7,8],[9,10]])\n",
        "MATRIX"
      ]
    },
    {
      "cell_type": "code",
      "execution_count": null,
      "metadata": {
        "colab": {
          "base_uri": "https://localhost:8080/"
        },
        "id": "v-bIIiBU1Ev2",
        "outputId": "0f6e5c54-8abf-4043-a21e-490e776b5122"
      },
      "outputs": [
        {
          "data": {
            "text/plain": [
              "2"
            ]
          },
          "execution_count": 11,
          "metadata": {},
          "output_type": "execute_result"
        }
      ],
      "source": [
        "MATRIX.ndim"
      ]
    },
    {
      "cell_type": "code",
      "execution_count": null,
      "metadata": {
        "colab": {
          "base_uri": "https://localhost:8080/"
        },
        "id": "eBQjOzkL1Klh",
        "outputId": "de6fa8f2-5776-4986-cd06-1db89a9090d5"
      },
      "outputs": [
        {
          "data": {
            "text/plain": [
              "tensor([[[1, 2, 3],\n",
              "         [3, 6, 9],\n",
              "         [7, 6, 5]]])"
            ]
          },
          "execution_count": 12,
          "metadata": {},
          "output_type": "execute_result"
        }
      ],
      "source": [
        "### Tensor\n",
        "\n",
        "TENSOR = torch.tensor([[[1,2,3],[3,6,9],[7,6,5]]])\n",
        "TENSOR\n"
      ]
    },
    {
      "cell_type": "code",
      "execution_count": null,
      "metadata": {
        "colab": {
          "base_uri": "https://localhost:8080/"
        },
        "id": "rK05eU6u3yji",
        "outputId": "6a82edd8-4005-4151-9faa-ea6cd60e4ae5"
      },
      "outputs": [
        {
          "data": {
            "text/plain": [
              "3"
            ]
          },
          "execution_count": 13,
          "metadata": {},
          "output_type": "execute_result"
        }
      ],
      "source": [
        "TENSOR.ndim"
      ]
    },
    {
      "cell_type": "code",
      "execution_count": null,
      "metadata": {
        "colab": {
          "base_uri": "https://localhost:8080/"
        },
        "id": "rBRsUEU83-D7",
        "outputId": "6029710d-0f5c-40cf-ba5d-90b9e6bf31f8"
      },
      "outputs": [
        {
          "data": {
            "text/plain": [
              "torch.Size([1, 3, 3])"
            ]
          },
          "execution_count": 14,
          "metadata": {},
          "output_type": "execute_result"
        }
      ],
      "source": [
        "TENSOR.shape\n",
        "\n",
        "### IT SAYS WE GOT ONE 3 BY 3 SHAPE TENSOR"
      ]
    },
    {
      "cell_type": "markdown",
      "metadata": {
        "id": "IHWid0Zw4Auv"
      },
      "source": [
        " ### RANDOM TENSORS\n",
        "\n",
        " WHY RANDOM TENSORS ?\n",
        "\n",
        " Random tensors are important because the way neural netwk learns is that they start with tensors full of random numbers and then adjust those random numbers to better represent data\n",
        "\n",
        "\n",
        "\n",
        " `start with random numbers  -> look at data -> update random numbers -> look at data -> update random numbers\n",
        "\n",
        "\n",
        "\n",
        " Torch random tensor - https://pytorch.org/docs/stable/generated/torch.rand.html\n"
      ]
    },
    {
      "cell_type": "code",
      "execution_count": null,
      "metadata": {
        "colab": {
          "base_uri": "https://localhost:8080/"
        },
        "id": "_sFHy-hN5syG",
        "outputId": "75811917-4467-4ad3-c082-8a8f816854cc"
      },
      "outputs": [
        {
          "data": {
            "text/plain": [
              "tensor([[0.1882, 0.0847, 0.3167, 0.3113],\n",
              "        [0.8508, 0.8039, 0.2268, 0.5513],\n",
              "        [0.8295, 0.6531, 0.5246, 0.8630]])"
            ]
          },
          "execution_count": 15,
          "metadata": {},
          "output_type": "execute_result"
        }
      ],
      "source": [
        "# create a random tensor of size (3,4)\n",
        "\n",
        "random_tensor = torch.rand(3,4)\n",
        "random_tensor"
      ]
    },
    {
      "cell_type": "code",
      "execution_count": null,
      "metadata": {
        "colab": {
          "base_uri": "https://localhost:8080/"
        },
        "id": "y34Rp2226tHA",
        "outputId": "f75a4490-d48c-4520-b9df-103a65955250"
      },
      "outputs": [
        {
          "data": {
            "text/plain": [
              "2"
            ]
          },
          "execution_count": 16,
          "metadata": {},
          "output_type": "execute_result"
        }
      ],
      "source": [
        "random_tensor.ndim"
      ]
    },
    {
      "cell_type": "code",
      "execution_count": null,
      "metadata": {
        "colab": {
          "base_uri": "https://localhost:8080/"
        },
        "id": "76x07orG6wwz",
        "outputId": "4f5f9754-cba1-4549-88a9-17db2c7d5a51"
      },
      "outputs": [
        {
          "data": {
            "text/plain": [
              "(torch.Size([3, 224, 224]), 3)"
            ]
          },
          "execution_count": 16,
          "metadata": {},
          "output_type": "execute_result"
        }
      ],
      "source": [
        "## create a random tensor with similar shape to an image tensor\n",
        "\n",
        "random_image_size_tensor = torch.rand(size=(3,224,224))  # size=(height , width , no of color channel(R,G,B))\n",
        "random_image_size_tensor.shape , random_image_size_tensor.ndim"
      ]
    },
    {
      "cell_type": "markdown",
      "metadata": {
        "id": "-bSrjVze7Pox"
      },
      "source": [
        "## Zeroes and ones"
      ]
    },
    {
      "cell_type": "code",
      "execution_count": null,
      "metadata": {
        "colab": {
          "base_uri": "https://localhost:8080/"
        },
        "id": "5sDrZh6h824M",
        "outputId": "a88fb51c-1ca0-4a7b-8829-097a655cab09"
      },
      "outputs": [
        {
          "data": {
            "text/plain": [
              "tensor([[0., 0., 0., 0.],\n",
              "        [0., 0., 0., 0.],\n",
              "        [0., 0., 0., 0.]])"
            ]
          },
          "execution_count": 17,
          "metadata": {},
          "output_type": "execute_result"
        }
      ],
      "source": [
        "zeroes = torch.zeros(size=(3,4))\n",
        "zeroes"
      ]
    },
    {
      "cell_type": "code",
      "execution_count": null,
      "metadata": {
        "colab": {
          "base_uri": "https://localhost:8080/"
        },
        "id": "c1iA8D5w9DGB",
        "outputId": "dfe93a08-d4d1-49dd-f7c2-7b3d5bad8577"
      },
      "outputs": [
        {
          "data": {
            "text/plain": [
              "tensor([[0., 0., 0., 0.],\n",
              "        [0., 0., 0., 0.],\n",
              "        [0., 0., 0., 0.]])"
            ]
          },
          "execution_count": 18,
          "metadata": {},
          "output_type": "execute_result"
        }
      ],
      "source": [
        "zeroes * random_tensor"
      ]
    },
    {
      "cell_type": "code",
      "execution_count": null,
      "metadata": {
        "colab": {
          "base_uri": "https://localhost:8080/"
        },
        "id": "KgD41rmA9GTq",
        "outputId": "ad783bb6-665a-4792-a498-2a9d158c20e9"
      },
      "outputs": [
        {
          "data": {
            "text/plain": [
              "tensor([[1., 1., 1., 1.],\n",
              "        [1., 1., 1., 1.],\n",
              "        [1., 1., 1., 1.]])"
            ]
          },
          "execution_count": 19,
          "metadata": {},
          "output_type": "execute_result"
        }
      ],
      "source": [
        "# create tensor of all ones\n",
        "\n",
        "ones = torch.ones(size=(3,4))\n",
        "ones"
      ]
    },
    {
      "cell_type": "code",
      "execution_count": null,
      "metadata": {
        "colab": {
          "base_uri": "https://localhost:8080/"
        },
        "id": "N0bhnxet9OFB",
        "outputId": "20013d67-fd50-49c0-8c23-23cea150d9a5"
      },
      "outputs": [
        {
          "data": {
            "text/plain": [
              "torch.float32"
            ]
          },
          "execution_count": 20,
          "metadata": {},
          "output_type": "execute_result"
        }
      ],
      "source": [
        "ones.dtype"
      ]
    },
    {
      "cell_type": "markdown",
      "metadata": {
        "id": "M3Z8W7GB9QuP"
      },
      "source": [
        "### Creating a range of tensors and tensors like"
      ]
    },
    {
      "cell_type": "code",
      "execution_count": null,
      "metadata": {
        "colab": {
          "base_uri": "https://localhost:8080/"
        },
        "id": "E9pcvOBf9lC4",
        "outputId": "5c51ec6b-7d63-411a-b17c-d16b077e5dc6"
      },
      "outputs": [
        {
          "name": "stderr",
          "output_type": "stream",
          "text": [
            "<ipython-input-21-dfdec9b83f7d>:1: UserWarning: torch.range is deprecated and will be removed in a future release because its behavior is inconsistent with Python's range builtin. Instead, use torch.arange, which produces values in [start, end).\n",
            "  torch.range(0,10)\n"
          ]
        },
        {
          "data": {
            "text/plain": [
              "tensor([ 0.,  1.,  2.,  3.,  4.,  5.,  6.,  7.,  8.,  9., 10.])"
            ]
          },
          "execution_count": 21,
          "metadata": {},
          "output_type": "execute_result"
        }
      ],
      "source": [
        "torch.range(0,10)"
      ]
    },
    {
      "cell_type": "code",
      "execution_count": null,
      "metadata": {
        "colab": {
          "base_uri": "https://localhost:8080/"
        },
        "id": "zgYHM01q9m57",
        "outputId": "98bca479-033b-48a0-f110-99db7e818dee"
      },
      "outputs": [
        {
          "data": {
            "text/plain": [
              "tensor([ 0.0000,  0.5000,  1.0000,  1.5000,  2.0000,  2.5000,  3.0000,  3.5000,\n",
              "         4.0000,  4.5000,  5.0000,  5.5000,  6.0000,  6.5000,  7.0000,  7.5000,\n",
              "         8.0000,  8.5000,  9.0000,  9.5000, 10.0000, 10.5000])"
            ]
          },
          "execution_count": 22,
          "metadata": {},
          "output_type": "execute_result"
        }
      ],
      "source": [
        " # to use torch.range() WE USE arange()\n",
        "one_to_ten = torch.arange(start=0 , end = 11 , step = 0.5)\n",
        "one_to_ten"
      ]
    },
    {
      "cell_type": "code",
      "execution_count": null,
      "metadata": {
        "colab": {
          "base_uri": "https://localhost:8080/"
        },
        "id": "N7LrnqNQ_V9Y",
        "outputId": "847d508e-13ee-491e-f12f-b0d291a14345"
      },
      "outputs": [
        {
          "data": {
            "text/plain": [
              "tensor([0., 0., 0., 0., 0., 0., 0., 0., 0., 0., 0., 0., 0., 0., 0., 0., 0., 0., 0., 0., 0., 0.])"
            ]
          },
          "execution_count": 23,
          "metadata": {},
          "output_type": "execute_result"
        }
      ],
      "source": [
        "#### creating a tensor like\n",
        "\n",
        "ten_zeros = torch.zeros_like(input = one_to_ten)\n",
        "ten_zeros"
      ]
    },
    {
      "cell_type": "markdown",
      "metadata": {
        "id": "8gIEZcqx_ppg"
      },
      "source": [
        "### Tensor datatypes\n",
        "\n",
        "** **Note :**. Tensor dataype is one of the 3 big errors u will run into pytorch & deep learning\n",
        "\n",
        "1. Tensor not right datatype\n",
        "2. Tensor not right shape\n",
        "3. Tensor not on right device"
      ]
    },
    {
      "cell_type": "code",
      "execution_count": null,
      "metadata": {
        "colab": {
          "base_uri": "https://localhost:8080/"
        },
        "id": "EOMIcYhH_14f",
        "outputId": "3ba3c0fa-e5e4-49ea-8a48-3aad85f75cfb"
      },
      "outputs": [
        {
          "data": {
            "text/plain": [
              "tensor([3., 6., 5.])"
            ]
          },
          "execution_count": 24,
          "metadata": {},
          "output_type": "execute_result"
        }
      ],
      "source": [
        "# float 32 tensor\n",
        "\n",
        "float_32_tensor = torch.tensor([3.0,6.0,5.0],\n",
        "                               dtype = None         # what datatype is the tensor\n",
        "                               , device = None      # what device your tensor is on\n",
        "                               , requires_grad = False) # whether or not to track gradients with this tensors operation\n",
        "float_32_tensor"
      ]
    },
    {
      "cell_type": "code",
      "execution_count": null,
      "metadata": {
        "colab": {
          "base_uri": "https://localhost:8080/"
        },
        "id": "tABaOZ9lAhnF",
        "outputId": "79e529a5-138f-4752-ffdc-a011c764f0ee"
      },
      "outputs": [
        {
          "data": {
            "text/plain": [
              "torch.float32"
            ]
          },
          "execution_count": 25,
          "metadata": {},
          "output_type": "execute_result"
        }
      ],
      "source": [
        "float_32_tensor.dtype"
      ]
    },
    {
      "cell_type": "code",
      "execution_count": null,
      "metadata": {
        "colab": {
          "base_uri": "https://localhost:8080/"
        },
        "id": "8TGPv1rDGn_L",
        "outputId": "de52ee5a-7e67-49d7-ca06-c66150f603c7"
      },
      "outputs": [
        {
          "data": {
            "text/plain": [
              "tensor([3., 6., 5.], dtype=torch.float16)"
            ]
          },
          "execution_count": 26,
          "metadata": {},
          "output_type": "execute_result"
        }
      ],
      "source": [
        "float_16_tensor = float_32_tensor.type(torch.float16)\n",
        "float_16_tensor"
      ]
    },
    {
      "cell_type": "code",
      "execution_count": null,
      "metadata": {
        "colab": {
          "base_uri": "https://localhost:8080/"
        },
        "id": "OHBcW9y6GuG9",
        "outputId": "61814094-d236-446a-dfd7-02b4d0e64d2d"
      },
      "outputs": [
        {
          "data": {
            "text/plain": [
              "tensor([ 9., 36., 25.])"
            ]
          },
          "execution_count": 34,
          "metadata": {},
          "output_type": "execute_result"
        }
      ],
      "source": [
        "float_16_tensor * float_32_tensor"
      ]
    },
    {
      "cell_type": "markdown",
      "metadata": {
        "id": "OahAKv9DG6tY"
      },
      "source": [
        "### GETTING INFORMATION FROM TENSORS\n",
        "\n",
        "1. Tensor not right datatype - to get datatype from a tensor use tensor.dtype\n",
        "2. Tensor not right shape - to get shape from tensor use tensor.shape\n",
        "3. Tensor not on right device - to get device from a tensor use tensor.device"
      ]
    },
    {
      "cell_type": "code",
      "execution_count": null,
      "metadata": {
        "colab": {
          "background_save": true,
          "base_uri": "https://localhost:8080/",
          "height": 190
        },
        "id": "CR2qSnVEyUCb",
        "outputId": "58e48431-0a86-46b1-fb62-378b7ed5a62f"
      },
      "outputs": [
        {
          "data": {
            "text/plain": [
              "tensor([[0.5419, 0.0963, 0.4955, 0.4125],\n",
              "        [0.2959, 0.2472, 0.6643, 0.1885],\n",
              "        [0.8199, 0.3920, 0.8926, 0.9094]])"
            ]
          },
          "execution_count": 28,
          "metadata": {},
          "output_type": "execute_result"
        }
      ],
      "source": [
        "# create a tensor\n",
        "some_tensor = torch.rand(3,4)\n",
        "some_tensor"
      ]
    },
    {
      "cell_type": "markdown",
      "source": [
        "### Matrix multiplication\n",
        "\n",
        "two ways :\n",
        "\n",
        "1) element wise\n",
        "\n",
        "\n",
        "\n",
        "2) Matrix Multiplication (dot product)\n",
        "\n",
        "\n",
        "Rules to satisfy matrix multiplication :\n",
        "\n",
        "1) The **inner dimension must match** :\n",
        "> (3,2) @ (3,2) wont work\n",
        "> (2,3) @ (3,2)  work\n",
        ">  (3,2) @ (2,3)  work\n",
        "\n",
        "\n",
        "2) THE RESULTING MATRIX HAS SHAPE OF OUTER DIMENSION\n",
        "\n",
        "> (2,3) @ (3,2) -> (2,2)\n",
        "> (3,2) @ (2,3) -> (3,3)"
      ],
      "metadata": {
        "id": "5gNx1s9eycvQ"
      }
    },
    {
      "cell_type": "code",
      "source": [
        "#element wise multiplication\n",
        "\n",
        "print(tensor ,'*', tensor)\n",
        "print(f\"Equals : {tensor * tensor}\")"
      ],
      "metadata": {
        "colab": {
          "base_uri": "https://localhost:8080/"
        },
        "id": "XNfoKZH_CV33",
        "outputId": "f4ff6d39-74c9-4af4-fc0e-580cdafdf34f"
      },
      "execution_count": 34,
      "outputs": [
        {
          "output_type": "stream",
          "name": "stdout",
          "text": [
            "tensor([1, 2, 3]) * tensor([1, 2, 3])\n",
            "Equals : tensor([1, 4, 9])\n"
          ]
        }
      ]
    },
    {
      "cell_type": "code",
      "source": [
        "# Matrix multiplication\n",
        "torch.matmul(tensor , tensor)"
      ],
      "metadata": {
        "colab": {
          "base_uri": "https://localhost:8080/"
        },
        "id": "hz4yQYqpDGnD",
        "outputId": "d8622040-feac-4546-c221-e976412ed0d2"
      },
      "execution_count": 35,
      "outputs": [
        {
          "output_type": "execute_result",
          "data": {
            "text/plain": [
              "tensor(14)"
            ]
          },
          "metadata": {},
          "execution_count": 35
        }
      ]
    },
    {
      "cell_type": "code",
      "source": [
        "# matrix multiplication hard coded\n",
        "\n",
        "1*1 + 2*2 + 3*3"
      ],
      "metadata": {
        "colab": {
          "base_uri": "https://localhost:8080/"
        },
        "id": "KkBrX_E0DOl_",
        "outputId": "1b54fe62-b99d-4897-c320-1c5f5ab0df55"
      },
      "execution_count": 36,
      "outputs": [
        {
          "output_type": "execute_result",
          "data": {
            "text/plain": [
              "14"
            ]
          },
          "metadata": {},
          "execution_count": 36
        }
      ]
    },
    {
      "cell_type": "code",
      "source": [
        "%%time\n",
        "value = 0\n",
        "for i in range(len(tensor)):\n",
        "  value += tensor[i] * tensor[i]\n",
        "\n",
        "print(value)"
      ],
      "metadata": {
        "colab": {
          "base_uri": "https://localhost:8080/"
        },
        "id": "IsoEEauSDhJ8",
        "outputId": "f0329d4c-3fab-4ee1-9b7e-8650a2b07d8c"
      },
      "execution_count": 37,
      "outputs": [
        {
          "output_type": "stream",
          "name": "stdout",
          "text": [
            "tensor(14)\n",
            "CPU times: user 1.65 ms, sys: 2.1 ms, total: 3.75 ms\n",
            "Wall time: 4.35 ms\n"
          ]
        }
      ]
    },
    {
      "cell_type": "code",
      "source": [
        "%%time\n",
        "torch.matmul(tensor , tensor)"
      ],
      "metadata": {
        "colab": {
          "base_uri": "https://localhost:8080/"
        },
        "id": "eWhKPqcPELkN",
        "outputId": "39b324de-e86c-4a89-8d57-71d1efd0d233"
      },
      "execution_count": 38,
      "outputs": [
        {
          "output_type": "stream",
          "name": "stdout",
          "text": [
            "CPU times: user 743 µs, sys: 0 ns, total: 743 µs\n",
            "Wall time: 613 µs\n"
          ]
        },
        {
          "output_type": "execute_result",
          "data": {
            "text/plain": [
              "tensor(14)"
            ]
          },
          "metadata": {},
          "execution_count": 38
        }
      ]
    },
    {
      "cell_type": "code",
      "source": [
        "# one more way for matmul\n",
        "\n",
        "tensor @ tensor"
      ],
      "metadata": {
        "colab": {
          "base_uri": "https://localhost:8080/"
        },
        "id": "Up1enRiOEQGJ",
        "outputId": "bda6c7ff-18a1-4953-fa4d-165bb5f3e133"
      },
      "execution_count": 39,
      "outputs": [
        {
          "output_type": "execute_result",
          "data": {
            "text/plain": [
              "tensor(14)"
            ]
          },
          "metadata": {},
          "execution_count": 39
        }
      ]
    },
    {
      "cell_type": "code",
      "source": [
        "# matrix mul rule 1 ex\n",
        "\n",
        "torch.matmul(torch.rand(3,2),torch.rand(3,2))"
      ],
      "metadata": {
        "colab": {
          "base_uri": "https://localhost:8080/",
          "height": 190
        },
        "id": "lfUyqQmbFOY3",
        "outputId": "cd6a7e39-5c16-4826-f4e8-76a4a2f9f982"
      },
      "execution_count": 40,
      "outputs": [
        {
          "output_type": "error",
          "ename": "RuntimeError",
          "evalue": "mat1 and mat2 shapes cannot be multiplied (3x2 and 3x2)",
          "traceback": [
            "\u001b[0;31m---------------------------------------------------------------------------\u001b[0m",
            "\u001b[0;31mRuntimeError\u001b[0m                              Traceback (most recent call last)",
            "\u001b[0;32m<ipython-input-40-01ccf23e9c49>\u001b[0m in \u001b[0;36m<cell line: 3>\u001b[0;34m()\u001b[0m\n\u001b[1;32m      1\u001b[0m \u001b[0;31m# matrix mul rule 1 ex\u001b[0m\u001b[0;34m\u001b[0m\u001b[0;34m\u001b[0m\u001b[0m\n\u001b[1;32m      2\u001b[0m \u001b[0;34m\u001b[0m\u001b[0m\n\u001b[0;32m----> 3\u001b[0;31m \u001b[0mtorch\u001b[0m\u001b[0;34m.\u001b[0m\u001b[0mmatmul\u001b[0m\u001b[0;34m(\u001b[0m\u001b[0mtorch\u001b[0m\u001b[0;34m.\u001b[0m\u001b[0mrand\u001b[0m\u001b[0;34m(\u001b[0m\u001b[0;36m3\u001b[0m\u001b[0;34m,\u001b[0m\u001b[0;36m2\u001b[0m\u001b[0;34m)\u001b[0m\u001b[0;34m,\u001b[0m\u001b[0mtorch\u001b[0m\u001b[0;34m.\u001b[0m\u001b[0mrand\u001b[0m\u001b[0;34m(\u001b[0m\u001b[0;36m3\u001b[0m\u001b[0;34m,\u001b[0m\u001b[0;36m2\u001b[0m\u001b[0;34m)\u001b[0m\u001b[0;34m)\u001b[0m\u001b[0;34m\u001b[0m\u001b[0;34m\u001b[0m\u001b[0m\n\u001b[0m",
            "\u001b[0;31mRuntimeError\u001b[0m: mat1 and mat2 shapes cannot be multiplied (3x2 and 3x2)"
          ]
        }
      ]
    },
    {
      "cell_type": "code",
      "source": [
        "see the difference above and below"
      ],
      "metadata": {
        "id": "pwZUWqmxGIWf"
      },
      "execution_count": null,
      "outputs": []
    },
    {
      "cell_type": "code",
      "source": [
        "torch.matmul(torch.rand(3,2),torch.rand(2,3))"
      ],
      "metadata": {
        "colab": {
          "base_uri": "https://localhost:8080/"
        },
        "id": "glmuD9sXGGZY",
        "outputId": "52a6b349-dc02-4c4a-a5a7-40a496158227"
      },
      "execution_count": 41,
      "outputs": [
        {
          "output_type": "execute_result",
          "data": {
            "text/plain": [
              "tensor([[0.5176, 0.1625, 0.4597],\n",
              "        [0.7225, 0.3384, 0.1865],\n",
              "        [0.2466, 0.0882, 0.1751]])"
            ]
          },
          "metadata": {},
          "execution_count": 41
        }
      ]
    },
    {
      "cell_type": "markdown",
      "source": [
        "One of the most common errors in deep learning : shape error\n"
      ],
      "metadata": {
        "id": "h5zlmagTGQpF"
      }
    },
    {
      "cell_type": "code",
      "source": [
        "# shape for matrix multiplication\n",
        "tensor_A = torch.tensor([[1,2],\n",
        "                         [3,4],\n",
        "                         [5,6]])\n",
        "\n",
        "tensor_B = torch.tensor([[7,10],\n",
        "                         [8,11],\n",
        "                         [9,12]])\n",
        "\n",
        "#torch.mm(tensor_A , tensor_B)\n",
        "\n",
        "# torch .mm is same as torch.matmul\n",
        "\n",
        "torch.matmul(tensor_A , tensor_B)"
      ],
      "metadata": {
        "colab": {
          "base_uri": "https://localhost:8080/",
          "height": 190
        },
        "id": "ZMVEgV8DK20X",
        "outputId": "fe7465f1-2491-41f8-8169-d814f094bad3"
      },
      "execution_count": 42,
      "outputs": [
        {
          "output_type": "error",
          "ename": "RuntimeError",
          "evalue": "mat1 and mat2 shapes cannot be multiplied (3x2 and 3x2)",
          "traceback": [
            "\u001b[0;31m---------------------------------------------------------------------------\u001b[0m",
            "\u001b[0;31mRuntimeError\u001b[0m                              Traceback (most recent call last)",
            "\u001b[0;32m<ipython-input-42-e60edbab941e>\u001b[0m in \u001b[0;36m<cell line: 14>\u001b[0;34m()\u001b[0m\n\u001b[1;32m     12\u001b[0m \u001b[0;31m# torch .mm is same as torch.matmul\u001b[0m\u001b[0;34m\u001b[0m\u001b[0;34m\u001b[0m\u001b[0m\n\u001b[1;32m     13\u001b[0m \u001b[0;34m\u001b[0m\u001b[0m\n\u001b[0;32m---> 14\u001b[0;31m \u001b[0mtorch\u001b[0m\u001b[0;34m.\u001b[0m\u001b[0mmatmul\u001b[0m\u001b[0;34m(\u001b[0m\u001b[0mtensor_A\u001b[0m \u001b[0;34m,\u001b[0m \u001b[0mtensor_B\u001b[0m\u001b[0;34m)\u001b[0m\u001b[0;34m\u001b[0m\u001b[0;34m\u001b[0m\u001b[0m\n\u001b[0m",
            "\u001b[0;31mRuntimeError\u001b[0m: mat1 and mat2 shapes cannot be multiplied (3x2 and 3x2)"
          ]
        }
      ]
    },
    {
      "cell_type": "code",
      "source": [
        "tensor_A.shape , tensor_B.shape"
      ],
      "metadata": {
        "colab": {
          "base_uri": "https://localhost:8080/"
        },
        "id": "-c9OYi54LUzn",
        "outputId": "13296c54-cef6-4669-b6f0-eff77a8b1bf7"
      },
      "execution_count": 43,
      "outputs": [
        {
          "output_type": "execute_result",
          "data": {
            "text/plain": [
              "(torch.Size([3, 2]), torch.Size([3, 2]))"
            ]
          },
          "metadata": {},
          "execution_count": 43
        }
      ]
    },
    {
      "cell_type": "markdown",
      "source": [
        "### To fix out shape issue , we can manipulate the shape of one of our tensor using transpose"
      ],
      "metadata": {
        "id": "KrQCZjaoLdCT"
      }
    },
    {
      "cell_type": "code",
      "source": [
        "tensor_B.T , tensor_B.T.shape"
      ],
      "metadata": {
        "colab": {
          "base_uri": "https://localhost:8080/"
        },
        "id": "wLmMWZHyLsyj",
        "outputId": "4fdda468-a406-477d-dd49-0fbe34acf477"
      },
      "execution_count": 44,
      "outputs": [
        {
          "output_type": "execute_result",
          "data": {
            "text/plain": [
              "(tensor([[ 7,  8,  9],\n",
              "         [10, 11, 12]]),\n",
              " torch.Size([2, 3]))"
            ]
          },
          "metadata": {},
          "execution_count": 44
        }
      ]
    },
    {
      "cell_type": "code",
      "source": [
        "tensor_B , tensor_B.shape"
      ],
      "metadata": {
        "colab": {
          "base_uri": "https://localhost:8080/"
        },
        "id": "tq0U04U9Lxfn",
        "outputId": "04c65542-6f23-48fc-9dad-997334091a26"
      },
      "execution_count": 45,
      "outputs": [
        {
          "output_type": "execute_result",
          "data": {
            "text/plain": [
              "(tensor([[ 7, 10],\n",
              "         [ 8, 11],\n",
              "         [ 9, 12]]),\n",
              " torch.Size([3, 2]))"
            ]
          },
          "metadata": {},
          "execution_count": 45
        }
      ]
    },
    {
      "cell_type": "code",
      "source": [
        "output = torch.mm(tensor_A , tensor_B.T)\n",
        "output"
      ],
      "metadata": {
        "colab": {
          "base_uri": "https://localhost:8080/"
        },
        "id": "aKLM-g2aL0UU",
        "outputId": "41783689-3b70-4904-8bcc-0039f6d93221"
      },
      "execution_count": 50,
      "outputs": [
        {
          "output_type": "execute_result",
          "data": {
            "text/plain": [
              "tensor([[ 27,  30,  33],\n",
              "        [ 61,  68,  75],\n",
              "        [ 95, 106, 117]])"
            ]
          },
          "metadata": {},
          "execution_count": 50
        }
      ]
    },
    {
      "cell_type": "code",
      "source": [
        "output.shape"
      ],
      "metadata": {
        "colab": {
          "base_uri": "https://localhost:8080/"
        },
        "id": "Tw6jxkFxNcmW",
        "outputId": "e1745d2a-8e05-4311-e5f4-edcb18857add"
      },
      "execution_count": 51,
      "outputs": [
        {
          "output_type": "execute_result",
          "data": {
            "text/plain": [
              "torch.Size([3, 3])"
            ]
          },
          "metadata": {},
          "execution_count": 51
        }
      ]
    },
    {
      "cell_type": "markdown",
      "source": [
        "### Finding the min , max , mean , sum  \n",
        "\n",
        "\n",
        "\n",
        "\n",
        "\n",
        "\n",
        "\n",
        "\n",
        "**TENSOR Aggregation**\n"
      ],
      "metadata": {
        "id": "xJ-h3RvbN6XI"
      }
    },
    {
      "cell_type": "code",
      "source": [
        "# create a tensor\n",
        "x = torch.arange(0,100,10)\n",
        "x"
      ],
      "metadata": {
        "colab": {
          "base_uri": "https://localhost:8080/"
        },
        "id": "rE3Pt4aFPiWi",
        "outputId": "4426036f-56dd-45c4-a45d-d92dfafde349"
      },
      "execution_count": 52,
      "outputs": [
        {
          "output_type": "execute_result",
          "data": {
            "text/plain": [
              "tensor([ 0, 10, 20, 30, 40, 50, 60, 70, 80, 90])"
            ]
          },
          "metadata": {},
          "execution_count": 52
        }
      ]
    },
    {
      "cell_type": "code",
      "source": [
        "# find min\n",
        "torch.min(x), min(x)\n"
      ],
      "metadata": {
        "colab": {
          "base_uri": "https://localhost:8080/"
        },
        "id": "tS5DLJY2Pnhv",
        "outputId": "50b617f0-dc2d-48b8-8c20-9e3dc284a5f6"
      },
      "execution_count": 57,
      "outputs": [
        {
          "output_type": "execute_result",
          "data": {
            "text/plain": [
              "tensor(0)"
            ]
          },
          "metadata": {},
          "execution_count": 57
        }
      ]
    },
    {
      "cell_type": "code",
      "source": [
        "#find max\n",
        "\n",
        "torch.max(x), max(x)"
      ],
      "metadata": {
        "colab": {
          "base_uri": "https://localhost:8080/"
        },
        "id": "uMPdtIpSPtha",
        "outputId": "87e45a3a-c20e-4bb4-fe4c-adf4c108c909"
      },
      "execution_count": 58,
      "outputs": [
        {
          "output_type": "execute_result",
          "data": {
            "text/plain": [
              "(tensor(90), tensor(90))"
            ]
          },
          "metadata": {},
          "execution_count": 58
        }
      ]
    },
    {
      "cell_type": "code",
      "source": [
        "#find mean\n",
        "\n",
        "# here we got error because of dtype i.e., most common error in pytorch\n",
        "torch.mean(x)"
      ],
      "metadata": {
        "colab": {
          "base_uri": "https://localhost:8080/",
          "height": 190
        },
        "id": "J2mPwcGAP_nP",
        "outputId": "7d52ae64-7588-4ab2-91d1-1e07783ebe4d"
      },
      "execution_count": 59,
      "outputs": [
        {
          "output_type": "error",
          "ename": "RuntimeError",
          "evalue": "mean(): could not infer output dtype. Input dtype must be either a floating point or complex dtype. Got: Long",
          "traceback": [
            "\u001b[0;31m---------------------------------------------------------------------------\u001b[0m",
            "\u001b[0;31mRuntimeError\u001b[0m                              Traceback (most recent call last)",
            "\u001b[0;32m<ipython-input-59-f6b66b175ba4>\u001b[0m in \u001b[0;36m<cell line: 2>\u001b[0;34m()\u001b[0m\n\u001b[1;32m      1\u001b[0m \u001b[0;31m#find mean\u001b[0m\u001b[0;34m\u001b[0m\u001b[0;34m\u001b[0m\u001b[0m\n\u001b[0;32m----> 2\u001b[0;31m \u001b[0mtorch\u001b[0m\u001b[0;34m.\u001b[0m\u001b[0mmean\u001b[0m\u001b[0;34m(\u001b[0m\u001b[0mx\u001b[0m\u001b[0;34m)\u001b[0m\u001b[0;34m\u001b[0m\u001b[0;34m\u001b[0m\u001b[0m\n\u001b[0m",
            "\u001b[0;31mRuntimeError\u001b[0m: mean(): could not infer output dtype. Input dtype must be either a floating point or complex dtype. Got: Long"
          ]
        }
      ]
    },
    {
      "cell_type": "code",
      "source": [
        "x.dtype"
      ],
      "metadata": {
        "colab": {
          "base_uri": "https://localhost:8080/"
        },
        "id": "rm1i0PacQOa2",
        "outputId": "c81c7c1f-384f-430f-9c43-8c8e3062ad16"
      },
      "execution_count": 60,
      "outputs": [
        {
          "output_type": "execute_result",
          "data": {
            "text/plain": [
              "torch.int64"
            ]
          },
          "metadata": {},
          "execution_count": 60
        }
      ]
    },
    {
      "cell_type": "code",
      "source": [
        "#finding the mean\n",
        "torch.mean(x.type(torch.float32)) , x.type(torch.float32).mean()"
      ],
      "metadata": {
        "colab": {
          "base_uri": "https://localhost:8080/"
        },
        "id": "oFZQqRfyQSu9",
        "outputId": "f02950a7-b44f-4b19-8a1e-be3910452a67"
      },
      "execution_count": 63,
      "outputs": [
        {
          "output_type": "execute_result",
          "data": {
            "text/plain": [
              "(tensor(45.), tensor(45.))"
            ]
          },
          "metadata": {},
          "execution_count": 63
        }
      ]
    },
    {
      "cell_type": "markdown",
      "source": [
        "### Finding the positional min and max"
      ],
      "metadata": {
        "id": "ryuSOZXgRm73"
      }
    },
    {
      "cell_type": "code",
      "source": [
        "# Find the position in tensor that has minimum value in\n",
        "# argmin() -> returns index position of target tensor\n",
        "# where minmum value occurs\n",
        "\n",
        "\n",
        "x.argmin()"
      ],
      "metadata": {
        "colab": {
          "base_uri": "https://localhost:8080/"
        },
        "id": "5A24AwoGek9i",
        "outputId": "45e5cf91-d3de-487a-f932-a6f72a474958"
      },
      "execution_count": 65,
      "outputs": [
        {
          "output_type": "execute_result",
          "data": {
            "text/plain": [
              "tensor(0)"
            ]
          },
          "metadata": {},
          "execution_count": 65
        }
      ]
    },
    {
      "cell_type": "code",
      "source": [
        "# Find the position in tensor that has maximum value in\n",
        "# argmax() -> returns index position of target tensor\n",
        "# where max value occurs\n",
        "\n",
        "x.argmax()"
      ],
      "metadata": {
        "colab": {
          "base_uri": "https://localhost:8080/"
        },
        "id": "5_SBewF6fD0_",
        "outputId": "2c126995-a057-46df-ee92-73351ea92613"
      },
      "execution_count": 66,
      "outputs": [
        {
          "output_type": "execute_result",
          "data": {
            "text/plain": [
              "tensor(9)"
            ]
          },
          "metadata": {},
          "execution_count": 66
        }
      ]
    },
    {
      "cell_type": "code",
      "source": [
        "x[9]"
      ],
      "metadata": {
        "colab": {
          "base_uri": "https://localhost:8080/"
        },
        "id": "989rapyCfNrs",
        "outputId": "422a2f09-cfb8-4a6c-dace-2fc5ca674291"
      },
      "execution_count": 67,
      "outputs": [
        {
          "output_type": "execute_result",
          "data": {
            "text/plain": [
              "tensor(90)"
            ]
          },
          "metadata": {},
          "execution_count": 67
        }
      ]
    },
    {
      "cell_type": "markdown",
      "source": [
        "### RESHAPING , STACKING , SQUEEZING & UNSQUEEZING TENSORS"
      ],
      "metadata": {
        "id": "nyB35eE8fQoW"
      }
    }
  ],
  "metadata": {
    "colab": {
      "provenance": [],
      "authorship_tag": "ABX9TyOy1y4iby9/FFQxH3ZV4pIN",
      "include_colab_link": true
    },
    "kernelspec": {
      "display_name": "Python 3",
      "name": "python3"
    },
    "language_info": {
      "name": "python"
    }
  },
  "nbformat": 4,
  "nbformat_minor": 0
}